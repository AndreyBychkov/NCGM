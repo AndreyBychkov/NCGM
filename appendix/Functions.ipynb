{
 "cells": [
  {
   "cell_type": "markdown",
   "source": [
    "# Исследуем целевую функции и её производные "
   ],
   "metadata": {
    "collapsed": false,
    "pycharm": {
     "name": "#%% md\n"
    }
   }
  },
  {
   "cell_type": "code",
   "execution_count": 12,
   "metadata": {
    "collapsed": true,
    "pycharm": {
     "is_executing": false
    }
   },
   "outputs": [],
   "source": [
    "import sympy as sp\n",
    "\n",
    "x, H, b, a, s = sp.symbols(['x', 'H', 'b', 'a', 's'])"
   ]
  },
  {
   "cell_type": "markdown",
   "source": [
    "$f(x) = \\frac 1 2 x^T H x - (b, x)$"
   ],
   "metadata": {
    "collapsed": false,
    "pycharm": {
     "name": "#%% md\n"
    }
   }
  },
  {
   "cell_type": "code",
   "execution_count": 15,
   "outputs": [],
   "source": [
    "f =  0.5 * x*H*x - b*x"
   ],
   "metadata": {
    "collapsed": false,
    "pycharm": {
     "name": "#%%\n",
     "is_executing": false
    }
   }
  },
  {
   "cell_type": "markdown",
   "source": [
    "$f'_x(x) = \\space ?$"
   ],
   "metadata": {
    "collapsed": false,
    "pycharm": {
     "name": "#%% md\n"
    }
   }
  },
  {
   "cell_type": "code",
   "execution_count": 16,
   "outputs": [
    {
     "data": {
      "text/plain": "1.0*H*x - b",
      "text/latex": "$\\displaystyle 1.0 H x - b$"
     },
     "metadata": {},
     "output_type": "execute_result",
     "execution_count": 16
    }
   ],
   "source": [
    "sp.diff(f, x)"
   ],
   "metadata": {
    "collapsed": false,
    "pycharm": {
     "name": "#%%\n",
     "is_executing": false
    }
   }
  },
  {
   "cell_type": "markdown",
   "source": [
    "For parameter estimation by gradient descent \n",
    "\n",
    "$f(x + \\alpha s) = H(x + \\alpha s)^2 - 2b(x + \\alpha s)$\n",
    "\n",
    "$f'_\\alpha (x + \\alpha s) = \\space ?$"
   ],
   "metadata": {
    "collapsed": false
   }
  },
  {
   "cell_type": "code",
   "execution_count": 17,
   "outputs": [
    {
     "data": {
      "text/plain": "1.0*H*a*s**2 + 1.0*H*s*x - b*s",
      "text/latex": "$\\displaystyle 1.0 H a s^{2} + 1.0 H s x - b s$"
     },
     "metadata": {},
     "output_type": "execute_result",
     "execution_count": 17
    }
   ],
   "source": [
    "f_par = 0.5*H*(x + a*s) ** 2 - b*(x + a*s)\n",
    "sp.expand(sp.diff(f_par, a))"
   ],
   "metadata": {
    "collapsed": false,
    "pycharm": {
     "name": "#%%\n",
     "is_executing": false
    }
   }
  },
  {
   "cell_type": "code",
   "execution_count": null,
   "outputs": [],
   "source": [
    "\n"
   ],
   "metadata": {
    "collapsed": false,
    "pycharm": {
     "name": "#%%\n"
    }
   }
  }
 ],
 "metadata": {
  "kernelspec": {
   "display_name": "Python 3",
   "language": "python",
   "name": "python3"
  },
  "language_info": {
   "codemirror_mode": {
    "name": "ipython",
    "version": 2
   },
   "file_extension": ".py",
   "mimetype": "text/x-python",
   "name": "python",
   "nbconvert_exporter": "python",
   "pygments_lexer": "ipython2",
   "version": "2.7.6"
  },
  "pycharm": {
   "stem_cell": {
    "cell_type": "raw",
    "source": [],
    "metadata": {
     "collapsed": false
    }
   }
  }
 },
 "nbformat": 4,
 "nbformat_minor": 0
}